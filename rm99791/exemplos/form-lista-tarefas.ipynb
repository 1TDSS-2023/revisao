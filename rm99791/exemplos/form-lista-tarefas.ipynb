{
 "cells": [
  {
   "cell_type": "markdown",
   "metadata": {},
   "source": [
    "# **Exemplo JS: Formulário com botões**\n",
    "\n",
    "Neste exemplo temos um formulário com um elemento input text e um elemento button. Ao clicar no botão, adicionamos, removemos e alteramos tarefas adicionadas a uma lista."
   ]
  },
  {
   "cell_type": "markdown",
   "metadata": {},
   "source": [
    "# # **Código HTML**"
   ]
  },
  {
   "cell_type": "code",
   "execution_count": null,
   "metadata": {
    "vscode": {
     "languageId": "html"
    }
   },
   "outputs": [],
   "source": [
    "<!-- Formulário para adicionar novas tarefas -->\n",
    "<div>\n",
    "    <form id=\"form-tarefa\">\n",
    "        <!--  Input text para digitar o nome da tarefa -->\n",
    "        <input type=\"text\" id=\"inpt-nova-tarefa\" placeholder=\"Digite o nome da tarefa...\">\n",
    "        <!-- Botão de adicionar a nova tarefa. Ele será o evento que o JS irá controlar -->\n",
    "        <button type=\"submit\" id=\"btn-adiciona-tarefa\">Adicionar nova tarefa</button>\n",
    "    </form>\n",
    "</div>\n",
    "\n",
    "<!-- Lista não ordenada que irá receber o valor das tarefas -->\n",
    "<div>\n",
    "    <ul id=\"ul-lista-tarefas\"></ul>\n",
    "</div>"
   ]
  },
  {
   "cell_type": "markdown",
   "metadata": {},
   "source": [
    "# # **Código JS**\n",
    "\n",
    "* Passo 1: Criar um array de objetos com as tarefas\n",
    "* Passo 2: Declarar as variáveis que vão armazenar os elementos HTML. Usar \"querySelector\" com seletores CSS para identificar o elemento correto no HTML.\n",
    "* Passo 3: Criar a função atualizarLista(), que vai atualizar a lista de tarefas no HTML. Essa função deve:\n",
    "    * Limpar o HTML da lista de tarefas\n",
    "    * Percorrer o array de tarefas e criar um elemento HTML para cada tarefa, no caso um list item.\n",
    "    * Adicionar o elemento HTML criado dentro da lista de tarefas\n",
    "* Passo 4: Criar o eventlistner no form, para escutar toda vez que o botão submit for clicado. Esse eventlistener deve:\n",
    "    * Prevenir o comportamento padrão do botão submit, que é recarregar a página\n",
    "    * Adicionar o objeto criado no array de tarefas\n",
    "    * Limpar os inputs do form\n",
    "    * Chamar a função atualizarLista() para atualizar a lista de tarefas no HTML\n",
    "    "
   ]
  },
  {
   "cell_type": "code",
   "execution_count": null,
   "metadata": {
    "vscode": {
     "languageId": "javascript"
    }
   },
   "outputs": [],
   "source": [
    "// Criação do array de tarefas\n",
    "let tarefas = [];\n",
    "\n",
    "// Seleção dos elementos do HTML necessários\n",
    "const formTarefa = document.querySelector('#form-tarefa');\n",
    "const btnAdicionarTarefa = document.querySelector('#btn-adicionar-tarefa'); // Nesta estrutura não será usado\n",
    "const inptNovaTarefa = document.querySelector('#inpt-nova-tarefa');\n",
    "const ulListaTarefas = document.querySelector('#ul-lista-tarefas');\n",
    "\n",
    "// Função para atualizar a lista de tarefas na página\n",
    "function atualizarLista() {\n",
    "    // Limpar a lista de tarefas antes de tudo.\n",
    "    ulListaTarefas.innerHTML = '';\n",
    "  \n",
    "    // Loop através das tarefas e adicionar cada uma delas à lista que agora está limpa.\n",
    "    tarefas.forEach(function(tarefa) {\n",
    "        // Cria um item de lista\n",
    "        const li = document.createElement('li');\n",
    "        // Adiciona o texto da tarefa ao item de lista\n",
    "        li.textContent = tarefa;\n",
    "        // Adiciona o item de lista à lista de tarefas\n",
    "        ulListaTarefas.append(li);\n",
    "    })\n",
    "};\n",
    "\n",
    "// Manipulação do evento de submit do formulário\n",
    "// event é o elemento que está sendo manipulado, no caso o formulário\n",
    "formTarefa.addEventListener('submit', function(event) {\n",
    "    // Evitar o comportamento padrão do formulário que é recarregar a página limpa.\n",
    "    // Isso garante que a minha unorder list mantenha as tarefas adicionadas até o momento.\n",
    "    event.preventDefault();\n",
    "\n",
    "    // Insere a nova tarefa ao array toda vez que o evento submit ocorre\n",
    "    tarefas.push(inptNovaTarefa.value);\n",
    "\n",
    "    // Limpar o input\n",
    "    inptNovaTarefa.value = '';\n",
    "\n",
    "    // Atualizar a lista de tarefas\n",
    "    atualizarLista();\n",
    "});\n",
    "\n",
    "\n"
   ]
  }
 ],
 "metadata": {
  "language_info": {
   "name": "python"
  },
  "orig_nbformat": 4
 },
 "nbformat": 4,
 "nbformat_minor": 2
}
